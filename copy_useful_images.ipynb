{
 "cells": [
  {
   "cell_type": "code",
   "execution_count": null,
   "metadata": {},
   "outputs": [],
   "source": [
    "# 2014-training data @COCO\n",
    "txt_folder = './2014-train-bowl_banana-txts/'\n",
    "alljpg_folder = '/media/kris/TOSHIBA EXT/DATASETs/COCO/train2014/'\n",
    "somejpg_folder = '/home/kris/github/coco2pascal2txt/2014-train-bowl_banana-jpgs/'"
   ]
  },
  {
   "cell_type": "code",
   "execution_count": null,
   "metadata": {},
   "outputs": [],
   "source": [
    "# 2017-training data @COCO\n",
    "txt_folder = './2017-train-bowl_banana-txts/'\n",
    "alljpg_folder = '/media/kris/TOSHIBA EXT/DATASETs/COCO/train2017/'\n",
    "somejpg_folder = '/home/kris/github/coco2pascal2txt/2017-train-bowl_banana-jpgs/'\n",
    "list_folder = './2017-train-jpg_pathList'"
   ]
  },
  {
   "cell_type": "code",
   "execution_count": null,
   "metadata": {},
   "outputs": [],
   "source": [
    "import shutil\n",
    "import os\n",
    "def copyfile(txt_folder, alljpg_folder, somejpg_folder, list_folder):\n",
    "    # Create a new folder for storing copied jpgs\n",
    "    if not os.path.exists(somejpg_folder):\n",
    "        os.makedirs(somejpg_folder)\n",
    "        print('Create a new folder as somejpg_folder: {}'.format(somejpg_folder))\n",
    "    # Demonstrate how many jpgs needed to be applied\n",
    "    txt_ids = os.listdir(txt_folder)\n",
    "    print('{} jpgs need to be copied!'.format(len(txt_ids)))\n",
    "    # Do iteration for copying jpgs and record jpg_path\n",
    "    print('Looking for jpgs in: {}'.format(alljpg_folder))\n",
    "    if not os.path.exists(list_folder):\n",
    "        os.makedirs(list_folder)\n",
    "        print('Create a new folder for storing list.txt at: {}'.format(list_folder))\n",
    "    list_file = open(list_folder+'jpg_path_list.txt','w')\n",
    "    for ct, txt_id in enumerate(txt_ids):\n",
    "        ct+=1\n",
    "        if ct%500==0:\n",
    "            print('Already copied {} jpgs!'.format(ct))\n",
    "        jpg_id = txt_id.replace('txt','jpg')\n",
    "        shutil.copy(alljpg_folder+jpg_id,somejpg_folder+jpg_id)\n",
    "        # Write jpg_path list.txt\n",
    "        list_file.write(somejpg_folder+jpg_id+'\\n')\n",
    "    print('Done!\\nSuccessfully copied {} jpgs!'.format(ct))\n",
    "copyfile(txt_folder, alljpg_folder, somejpg_folder, list_folder)"
   ]
  }
 ],
 "metadata": {
  "kernelspec": {
   "display_name": "Python 3",
   "language": "python",
   "name": "python3"
  },
  "language_info": {
   "codemirror_mode": {
    "name": "ipython",
    "version": 3
   },
   "file_extension": ".py",
   "mimetype": "text/x-python",
   "name": "python",
   "nbconvert_exporter": "python",
   "pygments_lexer": "ipython3",
   "version": "3.5.2"
  }
 },
 "nbformat": 4,
 "nbformat_minor": 2
}
