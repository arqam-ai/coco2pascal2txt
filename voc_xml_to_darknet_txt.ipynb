{
 "cells": [
  {
   "cell_type": "markdown",
   "metadata": {},
   "source": [
    "## Count a particular class e.g. classes=[banana]"
   ]
  },
  {
   "cell_type": "code",
   "execution_count": 5,
   "metadata": {},
   "outputs": [
    {
     "name": "stdout",
     "output_type": "stream",
     "text": [
      "Start Counting bowl!\n",
      "Read xml files in xml_folder: /home/kris/github/coco2pascal2txt/xmls/\n",
      "Already loaded 5000 xml files!\n",
      "Already loaded 10000 xml files!\n",
      "Already loaded 15000 xml files!\n",
      "Already loaded 20000 xml files!\n",
      "Already loaded 25000 xml files!\n",
      "Already loaded 30000 xml files!\n",
      "Already loaded 35000 xml files!\n",
      "Already loaded 40000 xml files!\n",
      "Already loaded 45000 xml files!\n",
      "Already loaded 50000 xml files!\n",
      "Already loaded 55000 xml files!\n",
      "Already loaded 60000 xml files!\n",
      "Already loaded 65000 xml files!\n",
      "Already loaded 70000 xml files!\n",
      "Already loaded 75000 xml files!\n",
      "Already loaded 80000 xml files!\n",
      "Finally loaded 82081 xml files\n",
      "There exists 5028 bowls !!\n"
     ]
    }
   ],
   "source": [
    "import xml.etree.ElementTree as ET\n",
    "import pickle\n",
    "import os\n",
    "from os import listdir\n",
    "from os.path import join\n",
    "\n",
    "classes = ['bowl']\n",
    "#classes = ['banana']\n",
    "txt_folder = '/home/kris/github/coco2pascal2txt/txts/'\n",
    "list_folder = '/home/kris/github/coco2pascal2txt/jpg_pathList/'\n",
    "xml_folder = '/home/kris/github/coco2pascal2txt/xmls/'\n",
    "jpg_folder = '<path-to-jpg>'\n",
    "\n",
    "def exist_a_class(xml_path):\n",
    "    in_file = open(xml_path,'r')\n",
    "    tree=ET.parse(in_file)\n",
    "    root = tree.getroot()\n",
    "    existance = False\n",
    "    for obj in root.iter('object'):\n",
    "        if obj.find('difficult')==None:\n",
    "            difficult = 0\n",
    "        else:\n",
    "            difficult = obj.find('difficult').text\n",
    "        cls = obj.find('name').text\n",
    "        if cls not in classes or int(difficult)==1:\n",
    "            continue\n",
    "        existance = True\n",
    "    in_file.close()\n",
    "    return existance\n",
    "\n",
    "print('Start Counting {}!'.format(classes[0]))\n",
    "print('Read xml files in xml_folder: {}'.format(xml_folder))\n",
    "count = 0\n",
    "for ct, xml_id in enumerate(os.listdir(xml_folder)):\n",
    "    if ((ct+1)%5000)==0 and ct!=0:\n",
    "        print('Already loaded {} xml files!'.format(ct+1))\n",
    "    # Count a class\n",
    "    if exist_a_class(xml_folder+xml_id):\n",
    "        count+=1\n",
    "print('Finally loaded {} xml files'.format(ct+1))\n",
    "print('There exists {} {}s !!'.format(count,classes[0]))"
   ]
  },
  {
   "cell_type": "markdown",
   "metadata": {},
   "source": [
    "## ~/Downloads/annotations-COCO2014-trainval/instances_train2014.json"
   ]
  },
  {
   "cell_type": "code",
   "execution_count": 6,
   "metadata": {},
   "outputs": [
    {
     "data": {
      "text/plain": [
       "357"
      ]
     },
     "execution_count": 6,
     "metadata": {},
     "output_type": "execute_result"
    }
   ],
   "source": [
    "1618+5028-6289 # banana+bowl-Total = Both"
   ]
  },
  {
   "cell_type": "code",
   "execution_count": 7,
   "metadata": {},
   "outputs": [
    {
     "data": {
      "text/plain": [
       "1261"
      ]
     },
     "execution_count": 7,
     "metadata": {},
     "output_type": "execute_result"
    }
   ],
   "source": [
    "1618-357 # banana - Both = only-banana"
   ]
  },
  {
   "cell_type": "code",
   "execution_count": 8,
   "metadata": {},
   "outputs": [
    {
     "data": {
      "text/plain": [
       "4671"
      ]
     },
     "execution_count": 8,
     "metadata": {},
     "output_type": "execute_result"
    }
   ],
   "source": [
    "5028-357 # bowl - Both = only-bowl"
   ]
  }
 ],
 "metadata": {
  "kernelspec": {
   "display_name": "Python 3",
   "language": "python",
   "name": "python3"
  },
  "language_info": {
   "codemirror_mode": {
    "name": "ipython",
    "version": 3
   },
   "file_extension": ".py",
   "mimetype": "text/x-python",
   "name": "python",
   "nbconvert_exporter": "python",
   "pygments_lexer": "ipython3",
   "version": "3.5.2"
  }
 },
 "nbformat": 4,
 "nbformat_minor": 2
}
